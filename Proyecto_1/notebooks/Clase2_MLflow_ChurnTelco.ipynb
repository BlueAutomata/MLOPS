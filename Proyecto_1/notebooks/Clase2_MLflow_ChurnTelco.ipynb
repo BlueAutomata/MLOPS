{
 "cells": [
  {
   "cell_type": "markdown",
   "id": "0a94d3e4",
   "metadata": {},
   "source": [
    "# Clase 2: Seguimiento y comparación de modelos con MLflow\n",
    "\n",
    "Dataset: Churn de clientes - Telco"
   ]
  },
  {
   "cell_type": "code",
   "execution_count": 4,
   "id": "8dd6c7c7",
   "metadata": {},
   "outputs": [],
   "source": [
    "import pandas as pd\n",
    "from sklearn.model_selection import train_test_split\n",
    "\n",
    "url = \"..\\data\\WA_Fn-UseC_-Telco-Customer-Churn.csv\"\n",
    "df = pd.read_csv(url)\n",
    "df.drop(['customerID'], axis=1, inplace=True)\n",
    "df['TotalCharges'] = pd.to_numeric(df['TotalCharges'], errors='coerce')\n",
    "df.dropna(inplace=True)\n",
    "df = pd.get_dummies(df, drop_first=True)\n",
    "\n",
    "X = df.drop('Churn_Yes', axis=1)\n",
    "y = df['Churn_Yes']\n",
    "X_train, X_test, y_train, y_test = train_test_split(X, y, test_size=0.2, random_state=42)"
   ]
  },
  {
   "cell_type": "code",
   "execution_count": 5,
   "id": "c3e4e3fc",
   "metadata": {},
   "outputs": [
    {
     "data": {
      "text/plain": [
       "<Experiment: artifact_location='file:///c:/MLOPS/Proyecto_1/notebooks/mlruns/310794751774304322', creation_time=1744329200676, experiment_id='310794751774304322', last_update_time=1744329200676, lifecycle_stage='active', name='Churn_Telco_Comparacion', tags={}>"
      ]
     },
     "execution_count": 5,
     "metadata": {},
     "output_type": "execute_result"
    }
   ],
   "source": [
    "import mlflow\n",
    "import mlflow.sklearn\n",
    "from sklearn.linear_model import LogisticRegression\n",
    "from sklearn.ensemble import RandomForestClassifier\n",
    "from sklearn.model_selection import GridSearchCV, RandomizedSearchCV\n",
    "from sklearn.metrics import accuracy_score, f1_score, recall_score, roc_auc_score\n",
    "from scipy.stats import uniform\n",
    "from sklearn.svm import SVC\n",
    "\n",
    "mlflow.set_experiment(\"Churn_Telco_Comparacion\")"
   ]
  },
  {
   "cell_type": "markdown",
   "id": "91cde186",
   "metadata": {},
   "source": [
    "### Entrenamiento: Logistic Regression"
   ]
  },
  {
   "cell_type": "code",
   "execution_count": 5,
   "id": "d309ae2c",
   "metadata": {},
   "outputs": [
    {
     "name": "stderr",
     "output_type": "stream",
     "text": [
      "c:\\MLOPS\\env\\Lib\\site-packages\\sklearn\\linear_model\\_logistic.py:465: ConvergenceWarning: lbfgs failed to converge (status=1):\n",
      "STOP: TOTAL NO. OF ITERATIONS REACHED LIMIT.\n",
      "\n",
      "Increase the number of iterations (max_iter) or scale the data as shown in:\n",
      "    https://scikit-learn.org/stable/modules/preprocessing.html\n",
      "Please also refer to the documentation for alternative solver options:\n",
      "    https://scikit-learn.org/stable/modules/linear_model.html#logistic-regression\n",
      "  n_iter_i = _check_optimize_result(\n",
      "2025/04/10 18:53:25 WARNING mlflow.models.model: Model logged without a signature and input example. Please set `input_example` parameter when logging the model to auto infer the model signature.\n"
     ]
    }
   ],
   "source": [
    "with mlflow.start_run(run_name=\"Logistic Regression\"):\n",
    "    model = LogisticRegression(max_iter=1000)\n",
    "    model.fit(X_train, y_train)\n",
    "    y_pred = model.predict(X_test)\n",
    "    y_proba = model.predict_proba(X_test)[:,1]\n",
    "\n",
    "    mlflow.log_param(\"modelo\", \"logistic\")\n",
    "    mlflow.log_metric(\"accuracy\", accuracy_score(y_test, y_pred))\n",
    "    mlflow.log_metric(\"f1_score\", f1_score(y_test, y_pred))\n",
    "    mlflow.log_metric(\"recall\", recall_score(y_test, y_pred))\n",
    "    mlflow.log_metric(\"auc\", roc_auc_score(y_test, y_proba))\n",
    "    \n",
    "    mlflow.sklearn.log_model(model, \"modelo_logistico\")"
   ]
  },
  {
   "cell_type": "markdown",
   "id": "f16a4ab1",
   "metadata": {},
   "source": [
    "### Entrenamiento: Random Forest"
   ]
  },
  {
   "cell_type": "code",
   "execution_count": 6,
   "id": "a34ae18e",
   "metadata": {},
   "outputs": [
    {
     "name": "stderr",
     "output_type": "stream",
     "text": [
      "2025/04/10 18:53:28 WARNING mlflow.models.model: Model logged without a signature and input example. Please set `input_example` parameter when logging the model to auto infer the model signature.\n"
     ]
    }
   ],
   "source": [
    "with mlflow.start_run(run_name=\"Random Forest\"):\n",
    "    model = RandomForestClassifier(n_estimators=100, max_depth=6, random_state=42)\n",
    "    model.fit(X_train, y_train)\n",
    "    y_pred = model.predict(X_test)\n",
    "    y_proba = model.predict_proba(X_test)[:,1]\n",
    "\n",
    "    mlflow.log_param(\"modelo\", \"random_forest\")\n",
    "    mlflow.log_param(\"n_estimators\", 100)\n",
    "    mlflow.log_param(\"max_depth\", 6)\n",
    "    mlflow.log_metric(\"accuracy\", accuracy_score(y_test, y_pred))\n",
    "    mlflow.log_metric(\"f1_score\", f1_score(y_test, y_pred))\n",
    "    mlflow.log_metric(\"recall\", recall_score(y_test, y_pred))\n",
    "    mlflow.log_metric(\"auc\", roc_auc_score(y_test, y_proba))\n",
    "    \n",
    "    mlflow.sklearn.log_model(model, \"modelo_rf\")"
   ]
  },
  {
   "cell_type": "markdown",
   "id": "b38052ca",
   "metadata": {},
   "source": [
    "### Entrenamiento: Support vector machines"
   ]
  },
  {
   "cell_type": "code",
   "execution_count": null,
   "id": "52322bb4",
   "metadata": {},
   "outputs": [],
   "source": [
    "param_dist = {\n",
    "    'C': uniform(0.1, 10),       # Random float between 0.1 and 10\n",
    "    'kernel': ['linear', 'rbf'], # Random choice\n",
    "    'gamma': ['scale', 'auto']   # Random choice\n",
    "}\n",
    "\n",
    "# Randomized Search\n",
    "random_search = RandomizedSearchCV(\n",
    "    SVC(probability=True, random_state=42),\n",
    "    param_distributions=param_dist,\n",
    "    n_iter=20,  # Number of random combinations\n",
    "    cv=5,\n",
    "    scoring='accuracy',\n",
    "    random_state=42\n",
    ")\n",
    "\n",
    "random_search.fit(X_train, y_train)\n",
    "\n",
    "best_model = random_search.best_estimator_\n",
    "best_params = random_search.best_params_"
   ]
  },
  {
   "cell_type": "code",
   "execution_count": null,
   "id": "2c56f7f9",
   "metadata": {},
   "outputs": [
    {
     "name": "stderr",
     "output_type": "stream",
     "text": [
      "2025/04/10 19:29:01 WARNING mlflow.models.model: Model logged without a signature and input example. Please set `input_example` parameter when logging the model to auto infer the model signature.\n"
     ]
    }
   ],
   "source": [
    "with mlflow.start_run(run_name=\"Support Vector Machine\"):\n",
    "    y_pred = best_model.predict(X_test)\n",
    "    y_proba = best_model.predict_proba(X_test)[:, 1]\n",
    "\n",
    "    # Log all best hyperparameters\n",
    "    mlflow.log_param(\"modelo\", \"support_vector_machine\")\n",
    "    for param_name, param_value in best_params.items():\n",
    "        mlflow.log_param(param_name, param_value)\n",
    "\n",
    "    mlflow.log_metric(\"accuracy\", accuracy_score(y_test, y_pred))\n",
    "    mlflow.log_metric(\"f1_score\", f1_score(y_test, y_pred))\n",
    "    mlflow.log_metric(\"recall\", recall_score(y_test, y_pred))\n",
    "    mlflow.log_metric(\"auc\", roc_auc_score(y_test, y_proba))\n",
    "\n",
    "    mlflow.sklearn.log_model(best_model, \"modelo_svc\")"
   ]
  },
  {
   "cell_type": "markdown",
   "id": "78d184fd",
   "metadata": {},
   "source": [
    "### Visualizar Experimentos en la UI de MLflow"
   ]
  },
  {
   "cell_type": "code",
   "execution_count": 7,
   "id": "6aae128f",
   "metadata": {},
   "outputs": [],
   "source": [
    "# Ejecuta en terminal (no dentro del notebook):\n",
    "# mlflow ui\n",
    "# Luego abre en el navegador: http://127.0.0.1:5000"
   ]
  }
 ],
 "metadata": {
  "kernelspec": {
   "display_name": "env",
   "language": "python",
   "name": "python3"
  },
  "language_info": {
   "codemirror_mode": {
    "name": "ipython",
    "version": 3
   },
   "file_extension": ".py",
   "mimetype": "text/x-python",
   "name": "python",
   "nbconvert_exporter": "python",
   "pygments_lexer": "ipython3",
   "version": "3.11.3"
  }
 },
 "nbformat": 4,
 "nbformat_minor": 5
}
